{
 "cells": [
  {
   "cell_type": "markdown",
   "id": "497db21d-4e08-42a7-9258-90fecced929f",
   "metadata": {},
   "source": [
    "# Inference"
   ]
  },
  {
   "cell_type": "code",
   "execution_count": null,
   "id": "5725255c-8e4e-459b-ab12-29fca393b662",
   "metadata": {
    "height": 64
   },
   "outputs": [],
   "source": [
    "# Warning control\n",
    "import warnings\n",
    "warnings.filterwarnings('ignore')"
   ]
  },
  {
   "cell_type": "code",
   "execution_count": null,
   "id": "372ca766-d5c2-409e-9385-1c1b2b775f86",
   "metadata": {
    "height": 149
   },
   "outputs": [],
   "source": [
    "import numpy as np\n",
    "\n",
    "from sentence_transformers import SentenceTransformer\n",
    "from transformers import AutoTokenizer, \\\n",
    "                         DPRContextEncoder, DPRQuestionEncoder\n",
    "\n",
    "import logging\n",
    "logging.getLogger(\"transformers.modeling_utils\").setLevel(logging.ERROR)"
   ]
  },
  {
   "cell_type": "code",
   "execution_count": null,
   "id": "23226224-1ca8-4ab3-b8b6-ffd560b205e4",
   "metadata": {
    "height": 115
   },
   "outputs": [],
   "source": [
    "def cosine_similarity_matrix(features):\n",
    "    norms = np.linalg.norm(features, axis=1, keepdims=True)\n",
    "    normalized_features = features / norms\n",
    "    similarity_matrix = np.inner(normalized_features, normalized_features)\n",
    "    rounded_similarity_matrix = np.round(similarity_matrix, 4)\n",
    "    return rounded_similarity_matrix"
   ]
  },
  {
   "cell_type": "markdown",
   "id": "68a86800-66b5-4c28-9bfb-ffe8bc215474",
   "metadata": {},
   "source": [
    "## Pure similarity"
   ]
  },
  {
   "cell_type": "code",
   "execution_count": null,
   "id": "d2b7afc1-6894-42e0-a3c9-479372f1da38",
   "metadata": {
    "height": 166
   },
   "outputs": [],
   "source": [
    "answers = [\n",
    "    \"What is the tallest mountain in the world?\",\n",
    "    \"The tallest mountain in the world is Mount Everest.\",\n",
    "    \"Mount Shasta\",\n",
    "    \"I like my hike in the mountains\",\n",
    "    \"I am going to a yoga class\"\n",
    "]\n",
    "\n",
    "question = 'What is the tallest mountain in the world?'"
   ]
  },
  {
   "cell_type": "code",
   "execution_count": null,
   "id": "23055d3e-3403-44bf-b7bf-997b94c0746a",
   "metadata": {
    "height": 217
   },
   "outputs": [],
   "source": [
    "model = SentenceTransformer(\"sentence-transformers/all-MiniLM-L6-v2\")\n",
    "question_embedding = list(model.encode(question))\n",
    "\n",
    "sim = []\n",
    "for answer in answers:\n",
    "    answer_embedding = list(model.encode(answer))\n",
    "    sim.append(cosine_similarity_matrix(np.stack([question_embedding, answer_embedding]))[0,1])\n",
    "\n",
    "print(sim)\n",
    "best_inx = np.argmax(sim)\n",
    "print(f\"Question = {question}\")\n",
    "print(f\"Best answer = {answers[best_inx]}\")"
   ]
  },
  {
   "cell_type": "markdown",
   "id": "42995790-5b01-4105-abeb-670846767af1",
   "metadata": {},
   "source": [
    "## Dual-Encoder inference"
   ]
  },
  {
   "cell_type": "code",
   "execution_count": null,
   "id": "80b4d461-4905-4a3b-9f49-5373cfa64b7e",
   "metadata": {
    "height": 183
   },
   "outputs": [],
   "source": [
    "answer_tokenizer = AutoTokenizer \\\n",
    "                   .from_pretrained(\"./models/facebook/dpr-ctx_encoder-multiset-base\")\n",
    "answer_encoder = DPRContextEncoder \\\n",
    "                   .from_pretrained(\"./models/facebook/dpr-ctx_encoder-multiset-base\")\n",
    "\n",
    "question_tokenizer = AutoTokenizer \\\n",
    "                   .from_pretrained(\"./models/facebook/dpr-question_encoder-multiset-base\")\n",
    "question_encoder = DPRQuestionEncoder \\\n",
    "                   .from_pretrained(\"./models/facebook/dpr-question_encoder-multiset-base\")\n"
   ]
  },
  {
   "cell_type": "code",
   "execution_count": null,
   "id": "bf89b540-550a-47cb-a4a5-502d6544d949",
   "metadata": {
    "height": 81
   },
   "outputs": [],
   "source": [
    "# Compute the question embeddings\n",
    "question_tokens = question_tokenizer(question, return_tensors=\"pt\")[\"input_ids\"]\n",
    "question_embedding = question_encoder(question_tokens).pooler_output.flatten().tolist()\n",
    "print(question_embedding[:10], len(question_embedding))"
   ]
  },
  {
   "cell_type": "code",
   "execution_count": null,
   "id": "a3b3c8a2-1556-45cc-8db7-d5339c3e686b",
   "metadata": {
    "height": 183
   },
   "outputs": [],
   "source": [
    "sim = []\n",
    "for answer in answers:\n",
    "    answer_tokens = answer_tokenizer(answer, return_tensors=\"pt\")[\"input_ids\"]\n",
    "    answer_embedding = answer_encoder(answer_tokens).pooler_output.flatten().tolist() \n",
    "    sim.append(cosine_similarity_matrix(np.stack([question_embedding, answer_embedding]))[0,1])\n",
    "\n",
    "print(sim)\n",
    "best_inx = np.argmax(sim)\n",
    "print(f\"Question = {question}\")\n",
    "print(f\"Best answer = {answers[best_inx]}\")"
   ]
  }
 ],
 "metadata": {
  "kernelspec": {
   "display_name": "Python 3 (ipykernel)",
   "language": "python",
   "name": "python3"
  },
  "language_info": {
   "codemirror_mode": {
    "name": "ipython",
    "version": 3
   },
   "file_extension": ".py",
   "mimetype": "text/x-python",
   "name": "python",
   "nbconvert_exporter": "python",
   "pygments_lexer": "ipython3",
   "version": "3.11.9"
  }
 },
 "nbformat": 4,
 "nbformat_minor": 5
}
